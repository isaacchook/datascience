{
 "cells": [
  {
   "cell_type": "markdown",
   "metadata": {},
   "source": [
    "# Python Data Science"
   ]
  },
  {
   "cell_type": "markdown",
   "metadata": {},
   "source": [
    "## Step 1: Import Libraries"
   ]
  },
  {
   "cell_type": "code",
   "execution_count": 37,
   "metadata": {},
   "outputs": [],
   "source": [
    "#import library: pd for dataframe, sns for plot graphs, scikit learn for prediction, pipeline for easier data processing.\n",
    "import pandas as pd\n",
    "import numpy as np\n",
    "import matplotlib.pyplot as plt\n",
    "import seaborn as sns\n",
    "import aiohttp\n",
    "import asyncio\n",
    "from sklearn.linear_model import LinearRegression\n",
    "from sklearn.preprocessing import StandardScaler, PolynomialFeatures\n",
    "from sklearn.pipeline import Pipeline\n",
    "from sklearn.metrics import mean_squared_error, r2_score\n",
    "import warnings\n",
    "warnings.filterwarnings(\"ignore\", category=UserWarning) \n",
    "%matplotlib inline"
   ]
  },
  {
   "cell_type": "markdown",
   "metadata": {},
   "source": [
    "## Step 2: Import Dataset (Data obtained from Github, so credit to the owner of the data.)"
   ]
  },
  {
   "cell_type": "code",
   "execution_count": 38,
   "metadata": {},
   "outputs": [],
   "source": [
    "#Download function\n",
    "async def download(url, filename):\n",
    "    async with aiohttp.ClientSession() as session:\n",
    "        async with session.get(url) as response:\n",
    "            if response.status == 200:\n",
    "                content = await response.text()\n",
    "\n",
    "                with open(filename, \"w\") as f:\n",
    "                    f.write(content)\n",
    "            else:\n",
    "                print(f\"Failed to download {url}. Status code: {response.status}\")"
   ]
  },
  {
   "cell_type": "code",
   "execution_count": 39,
   "metadata": {},
   "outputs": [],
   "source": [
    "path = \"https://raw.githubusercontent.com/mdrilwan/datasets/master/flights.csv\"\n",
    "\n",
    "await download(path, \"flights_ticket.csv\")\n",
    "file_name = \"flights_ticket.csv\""
   ]
  },
  {
   "cell_type": "code",
   "execution_count": 40,
   "metadata": {},
   "outputs": [
    {
     "data": {
      "text/html": [
       "<div>\n",
       "<style scoped>\n",
       "    .dataframe tbody tr th:only-of-type {\n",
       "        vertical-align: middle;\n",
       "    }\n",
       "\n",
       "    .dataframe tbody tr th {\n",
       "        vertical-align: top;\n",
       "    }\n",
       "\n",
       "    .dataframe thead th {\n",
       "        text-align: right;\n",
       "    }\n",
       "</style>\n",
       "<table border=\"1\" class=\"dataframe\">\n",
       "  <thead>\n",
       "    <tr style=\"text-align: right;\">\n",
       "      <th></th>\n",
       "      <th>AvgTicketPrice</th>\n",
       "      <th>Cancelled</th>\n",
       "      <th>Dest</th>\n",
       "      <th>DestAirportID</th>\n",
       "      <th>DestCityName</th>\n",
       "      <th>DestCountry</th>\n",
       "      <th>DestLocation</th>\n",
       "      <th>DestRegion</th>\n",
       "      <th>DestWeather</th>\n",
       "      <th>DistanceKilometers</th>\n",
       "      <th>...</th>\n",
       "      <th>FlightTimeMin</th>\n",
       "      <th>Origin</th>\n",
       "      <th>OriginAirportID</th>\n",
       "      <th>OriginCityName</th>\n",
       "      <th>OriginCountry</th>\n",
       "      <th>OriginLocation</th>\n",
       "      <th>OriginRegion</th>\n",
       "      <th>OriginWeather</th>\n",
       "      <th>dayOfWeek</th>\n",
       "      <th>hour_of_day</th>\n",
       "    </tr>\n",
       "  </thead>\n",
       "  <tbody>\n",
       "    <tr>\n",
       "      <th>0</th>\n",
       "      <td>$668.22</td>\n",
       "      <td>False</td>\n",
       "      <td>San Francisco International Airport</td>\n",
       "      <td>SFO</td>\n",
       "      <td>San Francisco</td>\n",
       "      <td>US</td>\n",
       "      <td>{\\n  \"lat\": \"37.61899948\",\\n  \"lon\": \"-122.375...</td>\n",
       "      <td>US-CA</td>\n",
       "      <td>Sunny</td>\n",
       "      <td>10,260.84</td>\n",
       "      <td>...</td>\n",
       "      <td>488.611</td>\n",
       "      <td>Naples International Airport</td>\n",
       "      <td>NA01</td>\n",
       "      <td>Naples</td>\n",
       "      <td>IT</td>\n",
       "      <td>{\\n  \"lat\": \"40.886002\",\\n  \"lon\": \"14.2908\"\\n}</td>\n",
       "      <td>IT-72</td>\n",
       "      <td>Sunny</td>\n",
       "      <td>5</td>\n",
       "      <td>16</td>\n",
       "    </tr>\n",
       "    <tr>\n",
       "      <th>1</th>\n",
       "      <td>$519.25</td>\n",
       "      <td>False</td>\n",
       "      <td>Tulsa International Airport</td>\n",
       "      <td>TUL</td>\n",
       "      <td>Tulsa</td>\n",
       "      <td>US</td>\n",
       "      <td>{\\n  \"lat\": \"36.19839859\",\\n  \"lon\": \"-95.8880...</td>\n",
       "      <td>US-OK</td>\n",
       "      <td>Sunny</td>\n",
       "      <td>4,137.26</td>\n",
       "      <td>...</td>\n",
       "      <td>376.115</td>\n",
       "      <td>El Dorado International Airport</td>\n",
       "      <td>BOG</td>\n",
       "      <td>Bogota</td>\n",
       "      <td>CO</td>\n",
       "      <td>{\\n  \"lat\": \"4.70159\",\\n  \"lon\": \"-74.1469\"\\n}</td>\n",
       "      <td>SE-BD</td>\n",
       "      <td>Rain</td>\n",
       "      <td>5</td>\n",
       "      <td>16</td>\n",
       "    </tr>\n",
       "  </tbody>\n",
       "</table>\n",
       "<p>2 rows × 26 columns</p>\n",
       "</div>"
      ],
      "text/plain": [
       "  AvgTicketPrice  Cancelled                                 Dest  \\\n",
       "0       $668.22       False  San Francisco International Airport   \n",
       "1       $519.25       False          Tulsa International Airport   \n",
       "\n",
       "  DestAirportID   DestCityName DestCountry  \\\n",
       "0           SFO  San Francisco          US   \n",
       "1           TUL          Tulsa          US   \n",
       "\n",
       "                                        DestLocation DestRegion DestWeather  \\\n",
       "0  {\\n  \"lat\": \"37.61899948\",\\n  \"lon\": \"-122.375...      US-CA       Sunny   \n",
       "1  {\\n  \"lat\": \"36.19839859\",\\n  \"lon\": \"-95.8880...      US-OK       Sunny   \n",
       "\n",
       "  DistanceKilometers  ... FlightTimeMin                           Origin  \\\n",
       "0          10,260.84  ...       488.611     Naples International Airport   \n",
       "1           4,137.26  ...       376.115  El Dorado International Airport   \n",
       "\n",
       "   OriginAirportID OriginCityName OriginCountry  \\\n",
       "0             NA01         Naples            IT   \n",
       "1              BOG         Bogota            CO   \n",
       "\n",
       "                                    OriginLocation OriginRegion OriginWeather  \\\n",
       "0  {\\n  \"lat\": \"40.886002\",\\n  \"lon\": \"14.2908\"\\n}        IT-72         Sunny   \n",
       "1   {\\n  \"lat\": \"4.70159\",\\n  \"lon\": \"-74.1469\"\\n}        SE-BD          Rain   \n",
       "\n",
       "  dayOfWeek hour_of_day  \n",
       "0         5          16  \n",
       "1         5          16  \n",
       "\n",
       "[2 rows x 26 columns]"
      ]
     },
     "execution_count": 40,
     "metadata": {},
     "output_type": "execute_result"
    }
   ],
   "source": [
    "df = pd.read_csv(file_name)\n",
    "df.head(2)"
   ]
  },
  {
   "cell_type": "markdown",
   "metadata": {},
   "source": [
    "## 1: Single Linear Regression (Distance of Flight vs Flight Ticket)"
   ]
  },
  {
   "cell_type": "code",
   "execution_count": 52,
   "metadata": {},
   "outputs": [
    {
     "name": "stderr",
     "output_type": "stream",
     "text": [
      "/var/folders/96/wzzpc1p91h19g0z_r5fq42w00000gn/T/ipykernel_74652/570133721.py:5: FutureWarning: The default value of regex will change from True to False in a future version. In addition, single character regular expressions will *not* be treated as literal strings when regex=True.\n",
      "  df['AvgTicketPrice'] = df['AvgTicketPrice'].str.replace('$', '')\n"
     ]
    }
   ],
   "source": [
    "#Check the data type first\n",
    "#df.info()\n",
    "#Since Ticket Price/Distance(km) are object, let's convert them into float\n",
    "#Step 1: 'AvgTicketPrice' column has '$' sign , I want to remove it\n",
    "df['AvgTicketPrice'] = df['AvgTicketPrice'].str.replace('$', '')\n",
    "df['AvgTicketPrice'] = df['AvgTicketPrice'].str.replace(',', '').astype(float)\n",
    "df['DistanceKilometers'] = df['DistanceKilometers'].str.replace(',', '').astype(float)"
   ]
  },
  {
   "cell_type": "code",
   "execution_count": 57,
   "metadata": {},
   "outputs": [
    {
     "name": "stdout",
     "output_type": "stream",
     "text": [
      "Equation is: y = [[0.01797754]]* x + [611.93178242]\n"
     ]
    }
   ],
   "source": [
    "#Set up LR object\n",
    "lr = LinearRegression()\n",
    "\n",
    "#X as the independent variable, and y as the dependent, which we want to see\n",
    "X = df[['DistanceKilometers']]\n",
    "Y = df[['AvgTicketPrice']]\n",
    "\n",
    "#ft the model\n",
    "lr.fit(X,Y)\n",
    "\n",
    "#print coefficient / intercept and get the equation \n",
    "coeff = lr.coef_\n",
    "intercpt = lr.intercept_\n",
    "print(f'Equation is: y = {coeff}* x + {intercpt}')\n",
    "\n",
    "#finally, prediction\n",
    "Yhat = lr.predict(X)"
   ]
  },
  {
   "cell_type": "code",
   "execution_count": 63,
   "metadata": {},
   "outputs": [
    {
     "data": {
      "image/png": "[encoded data removed]",
      "text/plain": [
       "<Figure size 640x480 with 1 Axes>"
      ]
     },
     "metadata": {},
     "output_type": "display_data"
    }
   ],
   "source": [
    "pred_plot = sns.distplot(df['AvgTicketPrice'], hist=False, color='r',label = 'Actual Avg Price of Ticket')\n",
    "\n",
    "sns.distplot(Yhat, hist=False, color='b', label = 'Predicted plot', ax=pred_plot)\n",
    "\n",
    "plt.title(\"Distance(km) vs Avg Ticket Price\")\n",
    "plt.xlabel(\"Distance (km)\")\n",
    "plt.ylabel(\"Avg Ticket Price\")\n",
    "\n",
    "plt.legend(['Actual', 'Predicted'])\n",
    "plt.show()"
   ]
  },
  {
   "cell_type": "code",
   "execution_count": 64,
   "metadata": {},
   "outputs": [
    {
     "name": "stdout",
     "output_type": "stream",
     "text": [
      "MSE/R2-Score of Distance and Price are: 69503.85894242508 and 0.08805804436199627 respectively\n"
     ]
    }
   ],
   "source": [
    "#The graph enabled me to learn that distance has little effect on the price. Let's see their correlation\n",
    "\n",
    "mse = mean_squared_error(Y,Yhat)\n",
    "r2 = r2_score(Y,Yhat)\n",
    "\n",
    "print(f'MSE/R2-Score of Distance and Price are: {mse} and {r2} respectively')"
   ]
  },
  {
   "cell_type": "code",
   "execution_count": null,
   "metadata": {},
   "outputs": [],
   "source": []
  }
 ],
 "metadata": {
  "kernelspec": {
   "display_name": "Python 3",
   "language": "python",
   "name": "python3"
  },
  "language_info": {
   "codemirror_mode": {
    "name": "ipython",
    "version": 3
   },
   "file_extension": ".py",
   "mimetype": "text/x-python",
   "name": "python",
   "nbconvert_exporter": "python",
   "pygments_lexer": "ipython3",
   "version": "3.11.4"
  }
 },
 "nbformat": 4,
 "nbformat_minor": 2
}
